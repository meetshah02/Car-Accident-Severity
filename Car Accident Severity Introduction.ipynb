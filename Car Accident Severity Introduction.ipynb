{
 "cells": [
  {
   "cell_type": "markdown",
   "metadata": {},
   "source": [
    "##   **1. Introduction and Understanding of this problem**\n",
    "\n",
    "                     Road accidents in India claimed over 1.5 lakh lives in 2018.\n",
    "\n",
    "    The ministry of road transport and highways issued a report on Road accidents in India in 2018, which showed that road accidents last year increased by 0.46% as compared to 2017.A total of 4,67,044 road accidents have been reported by States and Union Territories (UTs) in the calendar year 2018, claiming 1,51,417 lives and causing injuries to 4,69,418 persons.Over-speeding accounted for 64.4% of the persons killed.India, ranks 1st in the number of road accident deaths across the 199 countries reported in the World Road Statistics, 2018 followed by China and US. As per the WHO Global Report on Road Safety 2018, India accounts for almost 11% of the accident related deaths in the World.\n",
    "\n",
    "    National Highways which comprise of 1.94 percent of total road network, accounted for 30.2 per cent of total road accidents and 35.7 per cent of deaths in 2018. State Highways which account for 2.97% of the road length accounted for 25.2 percent and 26.8 percent of accidents and deaths respectively.\n",
    "\n",
    "    As India having a major problem of water-logging during monsoon, this analysis can help BMC and the Road Department can predict the weather and take precautions in advance so that accidents especially during rainfalls can be reduced to quite a bit.\n",
    "\n",
    "    I would like to know if we can reduce this severity and avoid future accidents by analyzing and applying various Classification Machine Learning Algorithms on the data provided by IBM.This study will hopefully reveal what, if any, measures we can take as individuals and municipalities to make travel in India safer especially under harsh weather conditions."
   ]
  }
 ],
 "metadata": {
  "kernelspec": {
   "display_name": "Python 3",
   "language": "python",
   "name": "python3"
  },
  "language_info": {
   "codemirror_mode": {
    "name": "ipython",
    "version": 3
   },
   "file_extension": ".py",
   "mimetype": "text/x-python",
   "name": "python",
   "nbconvert_exporter": "python",
   "pygments_lexer": "ipython3",
   "version": "3.8.3"
  }
 },
 "nbformat": 4,
 "nbformat_minor": 4
}
